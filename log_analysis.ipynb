{
 "cells": [
  {
   "cell_type": "markdown",
   "metadata": {},
   "source": [
    "## Log Analysis"
   ]
  },
  {
   "cell_type": "markdown",
   "metadata": {},
   "source": [
    "### 1. Pick Up File"
   ]
  },
  {
   "cell_type": "markdown",
   "metadata": {},
   "source": [
    "#### Step 1: Picking up the Log File\n",
    "Load the log file for analysis. We'll use the `sample.log` file provided in the assignment.\n"
   ]
  },
  {
   "cell_type": "code",
   "execution_count": 1,
   "metadata": {},
   "outputs": [],
   "source": [
    "# Import necessary libraries\n",
    "import pandas as pd\n",
    "import re\n",
    "import matplotlib.pyplot as plt\n",
    "from collections import defaultdict\n",
    "\n",
    "# File path\n",
    "file_path = 'sample.log'\n"
   ]
  },
  {
   "cell_type": "markdown",
   "metadata": {},
   "source": [
    "#### Step 2: Validate Log File\n",
    "Ensure the log file contains essential elements like IP addresses, HTTP methods, and dates. We'll implement validation logic to confirm these are present.\n"
   ]
  },
  {
   "cell_type": "code",
   "execution_count": null,
   "metadata": {},
   "outputs": [
    {
     "name": "stdout",
     "output_type": "stream",
     "text": [
      "Log file validation passed.\n"
     ]
    }
   ],
   "source": [
    "def validate_log_file(file_path):\n",
    "    # Check for basic elements like IP addresses, methods, and dates\n",
    "    with open(file_path, 'r') as file:\n",
    "        for line in file:\n",
    "            if not re.search(r'\\d+\\.\\d+\\.\\d+\\.\\d+', line):  # Validate IP Address\n",
    "                print(f\"Invalid log format: Missing IP in line -> {line}\")\n",
    "                return False\n",
    "            if not re.search(r'\"(GET|POST|PUT|DELETE|OPTIONS|HEAD)', line):  # Validate Methods\n",
    "                print(f\"Invalid log format: Missing HTTP method in line -> {line}\")\n",
    "                return False\n",
    "    print(\"Log file validation passed.\")\n",
    "    return True\n",
    "\n",
    "# Validate the log file\n",
    "if not validate_log_file(file_path):\n",
    "    raise ValueError(\"Log file validation failed!\")"
   ]
  },
  {
   "cell_type": "markdown",
   "metadata": {},
   "source": [
    "#### Step 3: Identify Log File Category\n",
    "Determine the category of the log file based on its structure and contents, such as web server, Linux, or firewall logs.\n"
   ]
  },
  {
   "cell_type": "code",
   "execution_count": null,
   "metadata": {},
   "outputs": [
    {
     "name": "stdout",
     "output_type": "stream",
     "text": [
      "Log file category identified as: Web Server Log\n"
     ]
    }
   ],
   "source": [
    "def identify_log_file_category(file_path):\n",
    "    with open(file_path, 'r') as file:\n",
    "        sample_line = file.readline()\n",
    "        if 'HTTP' in sample_line:\n",
    "            return 'Web Server Log'\n",
    "        elif 'kernel' in sample_line:\n",
    "            return 'Linux System Log'\n",
    "        elif 'firewall' in sample_line:\n",
    "            return 'Firewall Log'\n",
    "    return 'Unknown Category'\n",
    "\n",
    "log_category = identify_log_file_category(file_path)\n",
    "print(f\"Log file category identified as: {log_category}\")\n"
   ]
  },
  {
   "cell_type": "markdown",
   "metadata": {},
   "source": [
    "#### Step 4: Construct Dictionary\n",
    "Parse the log file and construct a dictionary to organize key information such as IP addresses, endpoints, and status codes.\n"
   ]
  },
  {
   "cell_type": "code",
   "execution_count": null,
   "metadata": {},
   "outputs": [],
   "source": [
    "def parse_log_file(file_path):\n",
    "    log_data = defaultdict(list)\n",
    "    with open(file_path, 'r') as file:\n",
    "        for line in file:\n",
    "            match = re.search(r'(?P<ip>\\d+\\.\\d+\\.\\d+\\.\\d+).*\\[(?P<date>[^\\]]+)\\] \"(?P<method>GET|POST|PUT|DELETE|OPTIONS|HEAD) (?P<endpoint>\\S+)', line)\n",
    "            status_match = re.search(r'(?P<status>\\d{3})', line)\n",
    "            if match:\n",
    "                log_data['IP Address'].append(match.group('ip'))\n",
    "                log_data['Date'].append(match.group('date'))\n",
    "                log_data['Method'].append(match.group('method'))\n",
    "                log_data['Endpoint'].append(match.group('endpoint'))\n",
    "                log_data['Status'].append(status_match.group('status') if status_match else None)\n",
    "    return log_data\n",
    "\n",
    "log_dict = parse_log_file(file_path)"
   ]
  },
  {
   "cell_type": "markdown",
   "metadata": {},
   "source": [
    "#### Step 5: Write Dictionary to DataFrame\n",
    "Convert the parsed log data dictionary into a Pandas DataFrame for easier analysis.\n"
   ]
  },
  {
   "cell_type": "code",
   "execution_count": 19,
   "metadata": {},
   "outputs": [
    {
     "data": {
      "text/html": [
       "<div>\n",
       "<style scoped>\n",
       "    .dataframe tbody tr th:only-of-type {\n",
       "        vertical-align: middle;\n",
       "    }\n",
       "\n",
       "    .dataframe tbody tr th {\n",
       "        vertical-align: top;\n",
       "    }\n",
       "\n",
       "    .dataframe thead th {\n",
       "        text-align: right;\n",
       "    }\n",
       "</style>\n",
       "<table border=\"1\" class=\"dataframe\">\n",
       "  <thead>\n",
       "    <tr style=\"text-align: right;\">\n",
       "      <th></th>\n",
       "      <th>IP Address</th>\n",
       "      <th>Date</th>\n",
       "      <th>Method</th>\n",
       "      <th>Endpoint</th>\n",
       "      <th>Status</th>\n",
       "    </tr>\n",
       "  </thead>\n",
       "  <tbody>\n",
       "    <tr>\n",
       "      <th>0</th>\n",
       "      <td>185.116.27.235</td>\n",
       "      <td>2024-12-05 15:46:56+00:00</td>\n",
       "      <td>POST</td>\n",
       "      <td>/login</td>\n",
       "      <td>185</td>\n",
       "    </tr>\n",
       "    <tr>\n",
       "      <th>1</th>\n",
       "      <td>49.64.179.123</td>\n",
       "      <td>2024-12-05 01:14:03+00:00</td>\n",
       "      <td>DELETE</td>\n",
       "      <td>/home</td>\n",
       "      <td>179</td>\n",
       "    </tr>\n",
       "    <tr>\n",
       "      <th>2</th>\n",
       "      <td>30.117.243.202</td>\n",
       "      <td>2024-12-05 03:17:35+00:00</td>\n",
       "      <td>POST</td>\n",
       "      <td>/user/profile</td>\n",
       "      <td>117</td>\n",
       "    </tr>\n",
       "    <tr>\n",
       "      <th>3</th>\n",
       "      <td>110.141.47.193</td>\n",
       "      <td>2024-12-05 16:53:46+00:00</td>\n",
       "      <td>PUT</td>\n",
       "      <td>/cart</td>\n",
       "      <td>110</td>\n",
       "    </tr>\n",
       "    <tr>\n",
       "      <th>4</th>\n",
       "      <td>19.235.99.159</td>\n",
       "      <td>2024-12-05 01:38:56+00:00</td>\n",
       "      <td>POST</td>\n",
       "      <td>/products</td>\n",
       "      <td>235</td>\n",
       "    </tr>\n",
       "    <tr>\n",
       "      <th>...</th>\n",
       "      <td>...</td>\n",
       "      <td>...</td>\n",
       "      <td>...</td>\n",
       "      <td>...</td>\n",
       "      <td>...</td>\n",
       "    </tr>\n",
       "    <tr>\n",
       "      <th>9995</th>\n",
       "      <td>52.206.243.4</td>\n",
       "      <td>2024-12-05 17:16:38+00:00</td>\n",
       "      <td>GET</td>\n",
       "      <td>/login</td>\n",
       "      <td>206</td>\n",
       "    </tr>\n",
       "    <tr>\n",
       "      <th>9996</th>\n",
       "      <td>127.144.209.194</td>\n",
       "      <td>2024-12-05 13:38:02+00:00</td>\n",
       "      <td>GET</td>\n",
       "      <td>/logout</td>\n",
       "      <td>127</td>\n",
       "    </tr>\n",
       "    <tr>\n",
       "      <th>9997</th>\n",
       "      <td>109.63.108.113</td>\n",
       "      <td>2024-12-05 14:57:51+00:00</td>\n",
       "      <td>DELETE</td>\n",
       "      <td>/login</td>\n",
       "      <td>109</td>\n",
       "    </tr>\n",
       "    <tr>\n",
       "      <th>9998</th>\n",
       "      <td>9.220.35.121</td>\n",
       "      <td>2024-12-04 19:50:26+00:00</td>\n",
       "      <td>DELETE</td>\n",
       "      <td>/products</td>\n",
       "      <td>220</td>\n",
       "    </tr>\n",
       "    <tr>\n",
       "      <th>9999</th>\n",
       "      <td>200.144.143.125</td>\n",
       "      <td>2024-12-05 12:49:53+00:00</td>\n",
       "      <td>POST</td>\n",
       "      <td>/home</td>\n",
       "      <td>200</td>\n",
       "    </tr>\n",
       "  </tbody>\n",
       "</table>\n",
       "<p>10000 rows × 5 columns</p>\n",
       "</div>"
      ],
      "text/plain": [
       "           IP Address                      Date  Method       Endpoint Status\n",
       "0      185.116.27.235 2024-12-05 15:46:56+00:00    POST         /login    185\n",
       "1       49.64.179.123 2024-12-05 01:14:03+00:00  DELETE          /home    179\n",
       "2      30.117.243.202 2024-12-05 03:17:35+00:00    POST  /user/profile    117\n",
       "3      110.141.47.193 2024-12-05 16:53:46+00:00     PUT          /cart    110\n",
       "4       19.235.99.159 2024-12-05 01:38:56+00:00    POST      /products    235\n",
       "...               ...                       ...     ...            ...    ...\n",
       "9995     52.206.243.4 2024-12-05 17:16:38+00:00     GET         /login    206\n",
       "9996  127.144.209.194 2024-12-05 13:38:02+00:00     GET        /logout    127\n",
       "9997   109.63.108.113 2024-12-05 14:57:51+00:00  DELETE         /login    109\n",
       "9998     9.220.35.121 2024-12-04 19:50:26+00:00  DELETE      /products    220\n",
       "9999  200.144.143.125 2024-12-05 12:49:53+00:00    POST          /home    200\n",
       "\n",
       "[10000 rows x 5 columns]"
      ]
     },
     "execution_count": 19,
     "metadata": {},
     "output_type": "execute_result"
    }
   ],
   "source": [
    "# Convert dictionary to DataFrame\n",
    "log_df = pd.DataFrame(log_dict)\n",
    "log_df['Date'] = pd.to_datetime(log_df['Date'], format='%d/%b/%Y:%H:%M:%S %z', errors='coerce')\n",
    "log_df\n"
   ]
  },
  {
   "cell_type": "markdown",
   "metadata": {},
   "source": [
    "#### Step 6: Perform Analysis\n",
    "1. Count requests per IP address.\n",
    "2. Identify the most frequently accessed endpoint.\n",
    "3. Detect suspicious activities (e.g., repeated failed login attempts).\n"
   ]
  },
  {
   "cell_type": "code",
   "execution_count": 20,
   "metadata": {},
   "outputs": [],
   "source": [
    "# Count requests per IP address\n",
    "ip_counts = log_df['IP Address'].value_counts()\n",
    "\n",
    "# Identify the most frequently accessed endpoint\n",
    "endpoint_counts = log_df['Endpoint'].value_counts()\n",
    "most_accessed_endpoint = endpoint_counts.idxmax()\n",
    "most_accessed_count = endpoint_counts.max()\n",
    "\n",
    "# Detect suspicious activities (e.g., failed login attempts)\n",
    "failed_logins = log_df[log_df['Status'] == '401']\n",
    "failed_login_counts = failed_logins['IP Address'].value_counts()\n",
    "suspicious_ips = failed_login_counts[failed_login_counts > 10]\n"
   ]
  },
  {
   "cell_type": "markdown",
   "metadata": {},
   "source": [
    "#### Step 7: Time Series Graph\n",
    "Visualize request patterns over time using a time series graph.\n"
   ]
  },
  {
   "cell_type": "code",
   "execution_count": 21,
   "metadata": {},
   "outputs": [
    {
     "data": {
      "image/png": "[encoded data removed]",
      "text/plain": [
       "<Figure size 1000x600 with 1 Axes>"
      ]
     },
     "metadata": {},
     "output_type": "display_data"
    }
   ],
   "source": [
    "# Time series analysis: Requests per hour\n",
    "log_df['Hour'] = log_df['Date'].dt.hour\n",
    "hourly_requests = log_df.groupby('Hour').size()\n",
    "\n",
    "# Plot the time series\n",
    "plt.figure(figsize=(10, 6))\n",
    "hourly_requests.plot(kind='line', title=\"Requests per Hour\", marker='o')\n",
    "plt.xlabel(\"Hour\")\n",
    "plt.ylabel(\"Number of Requests\")\n",
    "plt.grid(True)\n",
    "plt.show()\n"
   ]
  },
  {
   "cell_type": "markdown",
   "metadata": {},
   "source": [
    "#### Step 8: Output Results\n",
    "Display results on-screen and save the analysis as a CSV file.\n"
   ]
  },
  {
   "cell_type": "code",
   "execution_count": null,
   "metadata": {},
   "outputs": [
    {
     "name": "stdout",
     "output_type": "stream",
     "text": [
      "\n",
      "Requests per IP Address:\n",
      "   IP Address   Request Count\n",
      "  142.222.182.3   119\n",
      "  69.223.199.206  119\n",
      "  43.217.72.237   115\n",
      "  247.213.22.9    115\n",
      "  127.144.209.194 114\n",
      "  66.101.161.12   114\n",
      "  159.44.49.176   114\n",
      "  147.72.90.192   113\n",
      "  193.234.162.11  112\n",
      "  240.65.167.196  112\n",
      "  244.177.167.87  112\n",
      "  9.220.35.121    111\n",
      "  159.6.216.91    111\n",
      "  207.72.124.233  111\n",
      "  190.108.159.253 111\n",
      "  97.81.57.148    111\n",
      "  148.204.228.101 111\n",
      "  40.54.250.28    111\n",
      "  25.212.156.24   110\n",
      "  91.33.89.51     110\n",
      "  195.18.152.238  109\n",
      "  30.120.200.194  109\n",
      "  93.12.149.51    108\n",
      "  114.214.114.160 108\n",
      "  234.142.175.165 108\n",
      "  150.60.97.102   106\n",
      "  129.165.110.239 106\n",
      "  56.209.36.4     106\n",
      "  141.84.175.63   106\n",
      "  206.40.220.230  106\n",
      "  16.86.94.228    105\n",
      "  32.55.127.115   104\n",
      "  69.199.108.86   104\n",
      "  215.69.220.95   104\n",
      "  206.148.25.167  104\n",
      "  225.74.5.96     104\n",
      "  109.63.108.113  104\n",
      "  157.219.182.99  103\n",
      "  41.75.94.132    103\n",
      "  30.117.243.202  103\n",
      "  146.183.85.140  103\n",
      "  67.219.162.152  102\n",
      "  167.198.111.176 102\n",
      "  20.173.125.5    101\n",
      "  82.234.145.223  101\n",
      "  203.135.137.226 101\n",
      "  67.3.78.187     100\n",
      "  49.48.49.142    99\n",
      "  102.111.245.240 99\n",
      "  47.199.2.76     99\n",
      "  140.48.10.28    99\n",
      "  207.22.179.146  99\n",
      "  235.105.73.143  99\n",
      "  110.93.29.210   99\n",
      "  131.167.116.25  98\n",
      "  177.134.9.133   98\n",
      "  149.127.55.131  98\n",
      "  72.43.174.20    98\n",
      "  23.254.237.14   98\n",
      "  134.35.173.184  98\n",
      "  152.154.227.92  98\n",
      "  123.74.130.98   98\n",
      "  126.116.23.64   97\n",
      "  52.206.243.4    97\n",
      "  234.233.151.86  97\n",
      "  175.96.60.63    97\n",
      "  227.119.88.108  97\n",
      "  86.115.199.205  96\n",
      "  184.32.171.249  96\n",
      "  47.92.164.213   96\n",
      "  163.247.215.201 96\n",
      "  36.29.39.203    96\n",
      "  118.229.71.202  96\n",
      "  237.176.20.19   96\n",
      "  49.64.179.123   95\n",
      "  127.116.188.92  95\n",
      "  140.33.173.190  94\n",
      "  110.141.47.193  94\n",
      "  136.132.149.137 93\n",
      "  234.73.244.96   91\n",
      "  28.50.202.87    91\n",
      "  41.223.55.17    90\n",
      "  158.172.55.112  90\n",
      "  131.166.170.97  90\n",
      "  156.254.114.90  89\n",
      "  181.15.144.228  89\n",
      "  19.235.99.159   89\n",
      "  169.132.251.241 89\n",
      "  116.150.212.22  89\n",
      "  200.144.143.125 88\n",
      "  146.202.243.171 87\n",
      "  57.62.240.135   87\n",
      "  243.127.32.55   86\n",
      "  3.34.196.193    86\n",
      "  213.213.131.49  85\n",
      "  166.65.245.9    84\n",
      "  140.33.115.199  83\n",
      "  48.59.203.155   82\n",
      "  185.116.27.235  80\n",
      "  154.254.77.11   74\n",
      "\n",
      "Most Frequently Accessed Endpoint:\n",
      "/search (Accessed 1478 times)\n",
      "\n",
      "Suspicious Activity Detected:\n",
      "No suspicious activity detected.\n"
     ]
    }
   ],
   "source": []
  }
 ],
 "metadata": {
  "kernelspec": {
   "display_name": "Python 3",
   "language": "python",
   "name": "python3"
  },
  "language_info": {
   "codemirror_mode": {
    "name": "ipython",
    "version": 3
   },
   "file_extension": ".py",
   "mimetype": "text/x-python",
   "name": "python",
   "nbconvert_exporter": "python",
   "pygments_lexer": "ipython3",
   "version": "3.12.6"
  }
 },
 "nbformat": 4,
 "nbformat_minor": 2
}
